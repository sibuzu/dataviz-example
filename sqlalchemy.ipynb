{
 "cells": [
  {
   "cell_type": "code",
   "execution_count": 1,
   "metadata": {
    "collapsed": true
   },
   "outputs": [],
   "source": [
    "import sqlalchemy"
   ]
  },
  {
   "cell_type": "code",
   "execution_count": 2,
   "metadata": {},
   "outputs": [
    {
     "data": {
      "text/plain": [
       "'1.1.13'"
      ]
     },
     "execution_count": 2,
     "metadata": {},
     "output_type": "execute_result"
    }
   ],
   "source": [
    "sqlalchemy.__version__ "
   ]
  },
  {
   "cell_type": "code",
   "execution_count": 3,
   "metadata": {
    "collapsed": true
   },
   "outputs": [],
   "source": [
    "from sqlalchemy import create_engine"
   ]
  },
  {
   "cell_type": "code",
   "execution_count": 4,
   "metadata": {
    "collapsed": true
   },
   "outputs": [],
   "source": [
    "engine = create_engine('sqlite:////data/sqlite.db', echo=True)"
   ]
  },
  {
   "cell_type": "code",
   "execution_count": 5,
   "metadata": {
    "collapsed": true
   },
   "outputs": [],
   "source": [
    "from sqlalchemy.ext.declarative import declarative_base"
   ]
  },
  {
   "cell_type": "code",
   "execution_count": 6,
   "metadata": {
    "collapsed": true
   },
   "outputs": [],
   "source": [
    "Base = declarative_base()"
   ]
  },
  {
   "cell_type": "code",
   "execution_count": 7,
   "metadata": {},
   "outputs": [
    {
     "data": {
      "text/plain": [
       "sqlalchemy.ext.declarative.api.Base"
      ]
     },
     "execution_count": 7,
     "metadata": {},
     "output_type": "execute_result"
    }
   ],
   "source": [
    "Base"
   ]
  },
  {
   "cell_type": "code",
   "execution_count": 8,
   "metadata": {},
   "outputs": [
    {
     "data": {
      "text/plain": [
       "Engine(sqlite:////data/sqlite.db)"
      ]
     },
     "execution_count": 8,
     "metadata": {},
     "output_type": "execute_result"
    }
   ],
   "source": [
    "engine"
   ]
  },
  {
   "cell_type": "code",
   "execution_count": 9,
   "metadata": {
    "collapsed": true
   },
   "outputs": [],
   "source": [
    "from sqlalchemy import Column, Integer, String, Enum"
   ]
  },
  {
   "cell_type": "code",
   "execution_count": 10,
   "metadata": {
    "collapsed": true
   },
   "outputs": [],
   "source": [
    "class Winner(Base):\n",
    "    __tablename__ = 'winners'\n",
    "\n",
    "    id = Column(Integer, primary_key=True)\n",
    "    name = Column(String)\n",
    "    catagory = Column(String)\n",
    "    year = Column(Integer)\n",
    "    nationality = Column(String)\n",
    "    sex = Column(Enum('male', 'female'))\n",
    "\n",
    "    def __repr__(self):\n",
    "        return \"<Winner(name='%s', catagory='%s', year='%s')>\" % (self.name, self.catagory, self.year)\n"
   ]
  },
  {
   "cell_type": "code",
   "execution_count": 11,
   "metadata": {},
   "outputs": [
    {
     "name": "stdout",
     "output_type": "stream",
     "text": [
      "2017-08-29 19:06:05,551 INFO sqlalchemy.engine.base.Engine SELECT CAST('test plain returns' AS VARCHAR(60)) AS anon_1\n",
      "2017-08-29 19:06:05,553 INFO sqlalchemy.engine.base.Engine ()\n",
      "2017-08-29 19:06:05,555 INFO sqlalchemy.engine.base.Engine SELECT CAST('test unicode returns' AS VARCHAR(60)) AS anon_1\n",
      "2017-08-29 19:06:05,556 INFO sqlalchemy.engine.base.Engine ()\n",
      "2017-08-29 19:06:05,559 INFO sqlalchemy.engine.base.Engine PRAGMA table_info(\"winners\")\n",
      "2017-08-29 19:06:05,561 INFO sqlalchemy.engine.base.Engine ()\n",
      "2017-08-29 19:06:05,565 INFO sqlalchemy.engine.base.Engine \n",
      "CREATE TABLE winners (\n",
      "\tid INTEGER NOT NULL, \n",
      "\tname VARCHAR, \n",
      "\tcatagory VARCHAR, \n",
      "\tyear INTEGER, \n",
      "\tnationality VARCHAR, \n",
      "\tsex VARCHAR(6), \n",
      "\tPRIMARY KEY (id), \n",
      "\tCHECK (sex IN ('male', 'female'))\n",
      ")\n",
      "\n",
      "\n",
      "2017-08-29 19:06:05,567 INFO sqlalchemy.engine.base.Engine ()\n",
      "2017-08-29 19:06:05,577 INFO sqlalchemy.engine.base.Engine COMMIT\n"
     ]
    }
   ],
   "source": [
    "Base.metadata.create_all(engine)"
   ]
  },
  {
   "cell_type": "code",
   "execution_count": 12,
   "metadata": {},
   "outputs": [],
   "source": [
    "from sqlalchemy.orm import sessionmaker "
   ]
  },
  {
   "cell_type": "code",
   "execution_count": 13,
   "metadata": {
    "collapsed": true
   },
   "outputs": [],
   "source": [
    "Session = sessionmaker(bind=engine)"
   ]
  },
  {
   "cell_type": "code",
   "execution_count": 14,
   "metadata": {
    "collapsed": true
   },
   "outputs": [],
   "source": [
    "session = Session()"
   ]
  },
  {
   "cell_type": "code",
   "execution_count": 15,
   "metadata": {
    "collapsed": true
   },
   "outputs": [],
   "source": [
    "nobel_winners = [\n",
    "    {'catagory': 'Physics',\n",
    "     'name': 'Albert Einstein',\n",
    "     'nationality': 'Swiss',\n",
    "     'sex': 'male',\n",
    "     'year': 1921},\n",
    "    {'catagory': 'Physics',\n",
    "     'name': 'Paul Dirac',\n",
    "     'nationality': 'British',\n",
    "     'sex': 'male',\n",
    "     'year': 1933},\n",
    "    {'catagory': 'Chemistry',\n",
    "     'name': 'Marie Curie',\n",
    "     'nationality': 'Polish',\n",
    "     'sex': 'female',\n",
    "     'year': 1911},\n",
    "]"
   ]
  },
  {
   "cell_type": "code",
   "execution_count": 16,
   "metadata": {},
   "outputs": [],
   "source": [
    "albert = Winner(**nobel_winners[0])"
   ]
  },
  {
   "cell_type": "code",
   "execution_count": 17,
   "metadata": {},
   "outputs": [
    {
     "data": {
      "text/plain": [
       "<Winner(name='Albert Einstein', catagory='Physics', year='1921')>"
      ]
     },
     "execution_count": 17,
     "metadata": {},
     "output_type": "execute_result"
    }
   ],
   "source": [
    "albert"
   ]
  },
  {
   "cell_type": "code",
   "execution_count": 18,
   "metadata": {
    "collapsed": true
   },
   "outputs": [],
   "source": [
    "session.add(albert)"
   ]
  },
  {
   "cell_type": "code",
   "execution_count": 19,
   "metadata": {},
   "outputs": [
    {
     "data": {
      "text/plain": [
       "IdentitySet([<Winner(name='Albert Einstein', catagory='Physics', year='1921')>])"
      ]
     },
     "execution_count": 19,
     "metadata": {},
     "output_type": "execute_result"
    }
   ],
   "source": [
    "session.new"
   ]
  },
  {
   "cell_type": "code",
   "execution_count": 20,
   "metadata": {},
   "outputs": [],
   "source": [
    "session.add(Winner(**nobel_winners[1]))"
   ]
  },
  {
   "cell_type": "code",
   "execution_count": 21,
   "metadata": {},
   "outputs": [
    {
     "data": {
      "text/plain": [
       "IdentitySet([<Winner(name='Albert Einstein', catagory='Physics', year='1921')>, <Winner(name='Paul Dirac', catagory='Physics', year='1933')>])"
      ]
     },
     "execution_count": 21,
     "metadata": {},
     "output_type": "execute_result"
    }
   ],
   "source": [
    "session.new"
   ]
  },
  {
   "cell_type": "code",
   "execution_count": 22,
   "metadata": {},
   "outputs": [],
   "source": [
    "session.expunge(albert)"
   ]
  },
  {
   "cell_type": "code",
   "execution_count": 23,
   "metadata": {},
   "outputs": [
    {
     "data": {
      "text/plain": [
       "IdentitySet([<Winner(name='Paul Dirac', catagory='Physics', year='1933')>])"
      ]
     },
     "execution_count": 23,
     "metadata": {},
     "output_type": "execute_result"
    }
   ],
   "source": [
    "session.new"
   ]
  },
  {
   "cell_type": "code",
   "execution_count": 24,
   "metadata": {},
   "outputs": [
    {
     "name": "stdout",
     "output_type": "stream",
     "text": [
      "2017-08-29 19:06:05,726 INFO sqlalchemy.engine.base.Engine BEGIN (implicit)\n",
      "2017-08-29 19:06:05,729 INFO sqlalchemy.engine.base.Engine INSERT INTO winners (name, catagory, year, nationality, sex) VALUES (?, ?, ?, ?, ?)\n",
      "2017-08-29 19:06:05,730 INFO sqlalchemy.engine.base.Engine ('Paul Dirac', 'Physics', 1933, 'British', 'male')\n",
      "2017-08-29 19:06:05,734 INFO sqlalchemy.engine.base.Engine COMMIT\n"
     ]
    }
   ],
   "source": [
    "session.commit()"
   ]
  },
  {
   "cell_type": "code",
   "execution_count": 25,
   "metadata": {},
   "outputs": [],
   "source": [
    "winner_rows = [Winner(**w) for w in nobel_winners]"
   ]
  },
  {
   "cell_type": "code",
   "execution_count": 26,
   "metadata": {},
   "outputs": [
    {
     "data": {
      "text/plain": [
       "[<Winner(name='Albert Einstein', catagory='Physics', year='1921')>,\n",
       " <Winner(name='Paul Dirac', catagory='Physics', year='1933')>,\n",
       " <Winner(name='Marie Curie', catagory='Chemistry', year='1911')>]"
      ]
     },
     "execution_count": 26,
     "metadata": {},
     "output_type": "execute_result"
    }
   ],
   "source": [
    "winner_rows"
   ]
  },
  {
   "cell_type": "code",
   "execution_count": 27,
   "metadata": {
    "collapsed": true
   },
   "outputs": [],
   "source": [
    "session.add_all(winner_rows)"
   ]
  },
  {
   "cell_type": "code",
   "execution_count": 28,
   "metadata": {},
   "outputs": [
    {
     "name": "stdout",
     "output_type": "stream",
     "text": [
      "2017-08-29 19:06:05,779 INFO sqlalchemy.engine.base.Engine BEGIN (implicit)\n",
      "2017-08-29 19:06:05,784 INFO sqlalchemy.engine.base.Engine INSERT INTO winners (name, catagory, year, nationality, sex) VALUES (?, ?, ?, ?, ?)\n",
      "2017-08-29 19:06:05,786 INFO sqlalchemy.engine.base.Engine ('Albert Einstein', 'Physics', 1921, 'Swiss', 'male')\n",
      "2017-08-29 19:06:05,790 INFO sqlalchemy.engine.base.Engine INSERT INTO winners (name, catagory, year, nationality, sex) VALUES (?, ?, ?, ?, ?)\n",
      "2017-08-29 19:06:05,793 INFO sqlalchemy.engine.base.Engine ('Paul Dirac', 'Physics', 1933, 'British', 'male')\n",
      "2017-08-29 19:06:05,795 INFO sqlalchemy.engine.base.Engine INSERT INTO winners (name, catagory, year, nationality, sex) VALUES (?, ?, ?, ?, ?)\n",
      "2017-08-29 19:06:05,797 INFO sqlalchemy.engine.base.Engine ('Marie Curie', 'Chemistry', 1911, 'Polish', 'female')\n",
      "2017-08-29 19:06:05,799 INFO sqlalchemy.engine.base.Engine COMMIT\n"
     ]
    }
   ],
   "source": [
    "session.commit()"
   ]
  },
  {
   "cell_type": "code",
   "execution_count": 29,
   "metadata": {},
   "outputs": [
    {
     "name": "stdout",
     "output_type": "stream",
     "text": [
      "2017-08-29 19:06:05,813 INFO sqlalchemy.engine.base.Engine BEGIN (implicit)\n",
      "2017-08-29 19:06:05,816 INFO sqlalchemy.engine.base.Engine SELECT count(*) AS count_1 \n",
      "FROM (SELECT winners.id AS winners_id, winners.name AS winners_name, winners.catagory AS winners_catagory, winners.year AS winners_year, winners.nationality AS winners_nationality, winners.sex AS winners_sex \n",
      "FROM winners) AS anon_1\n",
      "2017-08-29 19:06:05,817 INFO sqlalchemy.engine.base.Engine ()\n"
     ]
    },
    {
     "data": {
      "text/plain": [
       "4"
      ]
     },
     "execution_count": 29,
     "metadata": {},
     "output_type": "execute_result"
    }
   ],
   "source": [
    "session.query(Winner).count()"
   ]
  },
  {
   "cell_type": "code",
   "execution_count": 30,
   "metadata": {},
   "outputs": [
    {
     "data": {
      "text/plain": [
       "<sqlalchemy.orm.query.Query at 0x103674518>"
      ]
     },
     "execution_count": 30,
     "metadata": {},
     "output_type": "execute_result"
    }
   ],
   "source": [
    "session.query(Winner)"
   ]
  },
  {
   "cell_type": "code",
   "execution_count": 31,
   "metadata": {},
   "outputs": [
    {
     "name": "stdout",
     "output_type": "stream",
     "text": [
      "2017-08-29 19:06:05,841 INFO sqlalchemy.engine.base.Engine SELECT winners.id AS winners_id, winners.name AS winners_name, winners.catagory AS winners_catagory, winners.year AS winners_year, winners.nationality AS winners_nationality, winners.sex AS winners_sex \n",
      "FROM winners\n",
      "2017-08-29 19:06:05,844 INFO sqlalchemy.engine.base.Engine ()\n"
     ]
    },
    {
     "data": {
      "text/plain": [
       "[<Winner(name='Paul Dirac', catagory='Physics', year='1933')>,\n",
       " <Winner(name='Albert Einstein', catagory='Physics', year='1921')>,\n",
       " <Winner(name='Paul Dirac', catagory='Physics', year='1933')>,\n",
       " <Winner(name='Marie Curie', catagory='Chemistry', year='1911')>]"
      ]
     },
     "execution_count": 31,
     "metadata": {},
     "output_type": "execute_result"
    }
   ],
   "source": [
    "list(session.query(Winner))"
   ]
  },
  {
   "cell_type": "code",
   "execution_count": 32,
   "metadata": {},
   "outputs": [],
   "source": [
    "result = session.query(Winner).filter_by(catagory='Physics')"
   ]
  },
  {
   "cell_type": "code",
   "execution_count": 33,
   "metadata": {},
   "outputs": [
    {
     "name": "stdout",
     "output_type": "stream",
     "text": [
      "2017-08-29 19:06:05,864 INFO sqlalchemy.engine.base.Engine SELECT winners.id AS winners_id, winners.name AS winners_name, winners.catagory AS winners_catagory, winners.year AS winners_year, winners.nationality AS winners_nationality, winners.sex AS winners_sex \n",
      "FROM winners \n",
      "WHERE winners.catagory = ?\n",
      "2017-08-29 19:06:05,866 INFO sqlalchemy.engine.base.Engine ('Physics',)\n"
     ]
    },
    {
     "data": {
      "text/plain": [
       "[<Winner(name='Paul Dirac', catagory='Physics', year='1933')>,\n",
       " <Winner(name='Albert Einstein', catagory='Physics', year='1921')>,\n",
       " <Winner(name='Paul Dirac', catagory='Physics', year='1933')>]"
      ]
     },
     "execution_count": 33,
     "metadata": {},
     "output_type": "execute_result"
    }
   ],
   "source": [
    "list(result)"
   ]
  },
  {
   "cell_type": "code",
   "execution_count": 34,
   "metadata": {},
   "outputs": [],
   "source": [
    "res = session.query(Winner).order_by('year')"
   ]
  },
  {
   "cell_type": "code",
   "execution_count": 35,
   "metadata": {},
   "outputs": [
    {
     "name": "stdout",
     "output_type": "stream",
     "text": [
      "2017-08-29 19:06:05,888 INFO sqlalchemy.engine.base.Engine SELECT winners.id AS winners_id, winners.name AS winners_name, winners.catagory AS winners_catagory, winners.year AS winners_year, winners.nationality AS winners_nationality, winners.sex AS winners_sex \n",
      "FROM winners ORDER BY winners.year\n",
      "2017-08-29 19:06:05,892 INFO sqlalchemy.engine.base.Engine ()\n"
     ]
    },
    {
     "data": {
      "text/plain": [
       "[<Winner(name='Marie Curie', catagory='Chemistry', year='1911')>,\n",
       " <Winner(name='Albert Einstein', catagory='Physics', year='1921')>,\n",
       " <Winner(name='Paul Dirac', catagory='Physics', year='1933')>,\n",
       " <Winner(name='Paul Dirac', catagory='Physics', year='1933')>]"
      ]
     },
     "execution_count": 35,
     "metadata": {},
     "output_type": "execute_result"
    }
   ],
   "source": [
    "list(res)"
   ]
  },
  {
   "cell_type": "code",
   "execution_count": 36,
   "metadata": {
    "collapsed": true
   },
   "outputs": [],
   "source": [
    "def inst_to_dict(inst, delete_id=True):\n",
    "    dat = {}\n",
    "    for column in inst.__table__.columns:\n",
    "        dat[column.name] = getattr(inst, column.name)\n",
    "    if delete_id:\n",
    "        dat.pop('id')\n",
    "    return dat"
   ]
  },
  {
   "cell_type": "code",
   "execution_count": 37,
   "metadata": {},
   "outputs": [
    {
     "name": "stdout",
     "output_type": "stream",
     "text": [
      "2017-08-29 19:06:05,916 INFO sqlalchemy.engine.base.Engine SELECT winners.id AS winners_id, winners.name AS winners_name, winners.catagory AS winners_catagory, winners.year AS winners_year, winners.nationality AS winners_nationality, winners.sex AS winners_sex \n",
      "FROM winners\n",
      "2017-08-29 19:06:05,918 INFO sqlalchemy.engine.base.Engine ()\n"
     ]
    }
   ],
   "source": [
    "winner_rows = session.query(Winner)\n",
    "nobel_winners_x = [inst_to_dict(w, False) for w in winner_rows]"
   ]
  },
  {
   "cell_type": "code",
   "execution_count": 38,
   "metadata": {},
   "outputs": [
    {
     "data": {
      "text/plain": [
       "[{'catagory': 'Physics',\n",
       "  'name': 'Albert Einstein',\n",
       "  'nationality': 'Swiss',\n",
       "  'sex': 'male',\n",
       "  'year': 1921},\n",
       " {'catagory': 'Physics',\n",
       "  'name': 'Paul Dirac',\n",
       "  'nationality': 'British',\n",
       "  'sex': 'male',\n",
       "  'year': 1933},\n",
       " {'catagory': 'Chemistry',\n",
       "  'name': 'Marie Curie',\n",
       "  'nationality': 'Polish',\n",
       "  'sex': 'female',\n",
       "  'year': 1911}]"
      ]
     },
     "execution_count": 38,
     "metadata": {},
     "output_type": "execute_result"
    }
   ],
   "source": [
    "nobel_winners"
   ]
  },
  {
   "cell_type": "code",
   "execution_count": 39,
   "metadata": {},
   "outputs": [
    {
     "data": {
      "text/plain": [
       "[{'catagory': 'Physics',\n",
       "  'id': 1,\n",
       "  'name': 'Paul Dirac',\n",
       "  'nationality': 'British',\n",
       "  'sex': 'male',\n",
       "  'year': 1933},\n",
       " {'catagory': 'Physics',\n",
       "  'id': 2,\n",
       "  'name': 'Albert Einstein',\n",
       "  'nationality': 'Swiss',\n",
       "  'sex': 'male',\n",
       "  'year': 1921},\n",
       " {'catagory': 'Physics',\n",
       "  'id': 3,\n",
       "  'name': 'Paul Dirac',\n",
       "  'nationality': 'British',\n",
       "  'sex': 'male',\n",
       "  'year': 1933},\n",
       " {'catagory': 'Chemistry',\n",
       "  'id': 4,\n",
       "  'name': 'Marie Curie',\n",
       "  'nationality': 'Polish',\n",
       "  'sex': 'female',\n",
       "  'year': 1911}]"
      ]
     },
     "execution_count": 39,
     "metadata": {},
     "output_type": "execute_result"
    }
   ],
   "source": [
    "nobel_winners_x"
   ]
  },
  {
   "cell_type": "code",
   "execution_count": 40,
   "metadata": {},
   "outputs": [
    {
     "name": "stdout",
     "output_type": "stream",
     "text": [
      "2017-08-29 19:06:05,953 INFO sqlalchemy.engine.base.Engine DELETE FROM winners WHERE winners.id = ?\n",
      "2017-08-29 19:06:05,956 INFO sqlalchemy.engine.base.Engine (3,)\n"
     ]
    },
    {
     "data": {
      "text/plain": [
       "1"
      ]
     },
     "execution_count": 40,
     "metadata": {},
     "output_type": "execute_result"
    }
   ],
   "source": [
    "session.query(Winner).filter_by(id=3).delete()"
   ]
  },
  {
   "cell_type": "code",
   "execution_count": 41,
   "metadata": {},
   "outputs": [
    {
     "name": "stdout",
     "output_type": "stream",
     "text": [
      "2017-08-29 19:06:05,972 INFO sqlalchemy.engine.base.Engine SELECT winners.id AS winners_id, winners.name AS winners_name, winners.catagory AS winners_catagory, winners.year AS winners_year, winners.nationality AS winners_nationality, winners.sex AS winners_sex \n",
      "FROM winners\n",
      "2017-08-29 19:06:05,976 INFO sqlalchemy.engine.base.Engine ()\n"
     ]
    },
    {
     "data": {
      "text/plain": [
       "[{'catagory': 'Physics',\n",
       "  'id': 1,\n",
       "  'name': 'Paul Dirac',\n",
       "  'nationality': 'British',\n",
       "  'sex': 'male',\n",
       "  'year': 1933},\n",
       " {'catagory': 'Physics',\n",
       "  'id': 2,\n",
       "  'name': 'Albert Einstein',\n",
       "  'nationality': 'Swiss',\n",
       "  'sex': 'male',\n",
       "  'year': 1921},\n",
       " {'catagory': 'Chemistry',\n",
       "  'id': 4,\n",
       "  'name': 'Marie Curie',\n",
       "  'nationality': 'Polish',\n",
       "  'sex': 'female',\n",
       "  'year': 1911}]"
      ]
     },
     "execution_count": 41,
     "metadata": {},
     "output_type": "execute_result"
    }
   ],
   "source": [
    "winner_rows = session.query(Winner)\n",
    "nobel_winners_x = [inst_to_dict(w, False) for w in winner_rows]\n",
    "nobel_winners_x"
   ]
  },
  {
   "cell_type": "code",
   "execution_count": 42,
   "metadata": {},
   "outputs": [],
   "source": [
    "marie = session.query(Winner).get(4)"
   ]
  },
  {
   "cell_type": "code",
   "execution_count": 43,
   "metadata": {},
   "outputs": [
    {
     "data": {
      "text/plain": [
       "<Winner(name='Marie Curie', catagory='Chemistry', year='1911')>"
      ]
     },
     "execution_count": 43,
     "metadata": {},
     "output_type": "execute_result"
    }
   ],
   "source": [
    "marie"
   ]
  },
  {
   "cell_type": "code",
   "execution_count": 44,
   "metadata": {},
   "outputs": [],
   "source": [
    "marie.nationality = 'French'"
   ]
  },
  {
   "cell_type": "code",
   "execution_count": 45,
   "metadata": {},
   "outputs": [
    {
     "data": {
      "text/plain": [
       "IdentitySet([<Winner(name='Marie Curie', catagory='Chemistry', year='1911')>])"
      ]
     },
     "execution_count": 45,
     "metadata": {},
     "output_type": "execute_result"
    }
   ],
   "source": [
    "session.dirty"
   ]
  },
  {
   "cell_type": "code",
   "execution_count": 46,
   "metadata": {},
   "outputs": [
    {
     "data": {
      "text/plain": [
       "IdentitySet([])"
      ]
     },
     "execution_count": 46,
     "metadata": {},
     "output_type": "execute_result"
    }
   ],
   "source": [
    "session.new"
   ]
  },
  {
   "cell_type": "code",
   "execution_count": 47,
   "metadata": {},
   "outputs": [
    {
     "name": "stdout",
     "output_type": "stream",
     "text": [
      "2017-08-29 19:06:06,036 INFO sqlalchemy.engine.base.Engine UPDATE winners SET nationality=? WHERE winners.id = ?\n",
      "2017-08-29 19:06:06,039 INFO sqlalchemy.engine.base.Engine ('French', 4)\n",
      "2017-08-29 19:06:06,041 INFO sqlalchemy.engine.base.Engine COMMIT\n"
     ]
    }
   ],
   "source": [
    "session.commit()"
   ]
  },
  {
   "cell_type": "code",
   "execution_count": 48,
   "metadata": {},
   "outputs": [
    {
     "data": {
      "text/plain": [
       "IdentitySet([])"
      ]
     },
     "execution_count": 48,
     "metadata": {},
     "output_type": "execute_result"
    }
   ],
   "source": [
    "session.dirty"
   ]
  },
  {
   "cell_type": "code",
   "execution_count": 49,
   "metadata": {},
   "outputs": [
    {
     "name": "stdout",
     "output_type": "stream",
     "text": [
      "2017-08-29 19:06:06,063 INFO sqlalchemy.engine.base.Engine BEGIN (implicit)\n",
      "2017-08-29 19:06:06,066 INFO sqlalchemy.engine.base.Engine SELECT winners.id AS winners_id, winners.name AS winners_name, winners.catagory AS winners_catagory, winners.year AS winners_year, winners.nationality AS winners_nationality, winners.sex AS winners_sex \n",
      "FROM winners \n",
      "WHERE winners.id = ?\n",
      "2017-08-29 19:06:06,068 INFO sqlalchemy.engine.base.Engine (4,)\n"
     ]
    },
    {
     "data": {
      "text/plain": [
       "'French'"
      ]
     },
     "execution_count": 49,
     "metadata": {},
     "output_type": "execute_result"
    }
   ],
   "source": [
    "session.query(Winner).get(4).nationality"
   ]
  },
  {
   "cell_type": "code",
   "execution_count": 50,
   "metadata": {},
   "outputs": [
    {
     "name": "stdout",
     "output_type": "stream",
     "text": [
      "2017-08-29 19:06:06,080 INFO sqlalchemy.engine.base.Engine SELECT winners.id AS winners_id, winners.name AS winners_name, winners.catagory AS winners_catagory, winners.year AS winners_year, winners.nationality AS winners_nationality, winners.sex AS winners_sex \n",
      "FROM winners\n",
      "2017-08-29 19:06:06,082 INFO sqlalchemy.engine.base.Engine ()\n"
     ]
    },
    {
     "data": {
      "text/plain": [
       "[<Winner(name='Paul Dirac', catagory='Physics', year='1933')>,\n",
       " <Winner(name='Albert Einstein', catagory='Physics', year='1921')>,\n",
       " <Winner(name='Marie Curie', catagory='Chemistry', year='1911')>]"
      ]
     },
     "execution_count": 50,
     "metadata": {},
     "output_type": "execute_result"
    }
   ],
   "source": [
    "list(session.query(Winner))"
   ]
  },
  {
   "cell_type": "code",
   "execution_count": 51,
   "metadata": {},
   "outputs": [],
   "source": [
    "# Winner.__table__.drop(engine)"
   ]
  },
  {
   "cell_type": "code",
   "execution_count": null,
   "metadata": {
    "collapsed": true
   },
   "outputs": [],
   "source": []
  }
 ],
 "metadata": {
  "kernelspec": {
   "display_name": "Python 3",
   "language": "python",
   "name": "python3"
  },
  "language_info": {
   "codemirror_mode": {
    "name": "ipython",
    "version": 3
   },
   "file_extension": ".py",
   "mimetype": "text/x-python",
   "name": "python",
   "nbconvert_exporter": "python",
   "pygments_lexer": "ipython3",
   "version": "3.6.1"
  }
 },
 "nbformat": 4,
 "nbformat_minor": 2
}
