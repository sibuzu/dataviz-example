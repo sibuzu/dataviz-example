{
 "cells": [
  {
   "cell_type": "code",
   "execution_count": 29,
   "metadata": {
    "collapsed": true
   },
   "outputs": [],
   "source": [
    "import pandas as pd\n",
    "from pymongo import MongoClient"
   ]
  },
  {
   "cell_type": "code",
   "execution_count": 30,
   "metadata": {},
   "outputs": [],
   "source": [
    "client = MongoClient()\n",
    "db = client.nobel_prize\n",
    "cursor = db.winners.find()\n",
    "df = pd.DataFrame(list(cursor))"
   ]
  },
  {
   "cell_type": "code",
   "execution_count": 31,
   "metadata": {},
   "outputs": [
    {
     "data": {
      "text/html": [
       "<div>\n",
       "<table border=\"1\" class=\"dataframe\">\n",
       "  <thead>\n",
       "    <tr style=\"text-align: right;\">\n",
       "      <th></th>\n",
       "      <th>_id</th>\n",
       "      <th>catagory</th>\n",
       "      <th>name</th>\n",
       "      <th>nationality</th>\n",
       "      <th>sex</th>\n",
       "      <th>year</th>\n",
       "    </tr>\n",
       "  </thead>\n",
       "  <tbody>\n",
       "    <tr>\n",
       "      <th>0</th>\n",
       "      <td>59a552afb6435fc01cac169a</td>\n",
       "      <td>Physics</td>\n",
       "      <td>Albert Einstein</td>\n",
       "      <td>Swiss</td>\n",
       "      <td>male</td>\n",
       "      <td>1921</td>\n",
       "    </tr>\n",
       "    <tr>\n",
       "      <th>1</th>\n",
       "      <td>59a552afb6435fc01cac169b</td>\n",
       "      <td>Physics</td>\n",
       "      <td>Paul Dirac</td>\n",
       "      <td>British</td>\n",
       "      <td>male</td>\n",
       "      <td>1933</td>\n",
       "    </tr>\n",
       "    <tr>\n",
       "      <th>2</th>\n",
       "      <td>59a552afb6435fc01cac169c</td>\n",
       "      <td>Chemistry</td>\n",
       "      <td>Marie Curie</td>\n",
       "      <td>Polish</td>\n",
       "      <td>female</td>\n",
       "      <td>1911</td>\n",
       "    </tr>\n",
       "  </tbody>\n",
       "</table>\n",
       "</div>"
      ],
      "text/plain": [
       "                        _id   catagory             name nationality     sex  \\\n",
       "0  59a552afb6435fc01cac169a    Physics  Albert Einstein       Swiss    male   \n",
       "1  59a552afb6435fc01cac169b    Physics       Paul Dirac     British    male   \n",
       "2  59a552afb6435fc01cac169c  Chemistry      Marie Curie      Polish  female   \n",
       "\n",
       "   year  \n",
       "0  1921  \n",
       "1  1933  \n",
       "2  1911  "
      ]
     },
     "execution_count": 31,
     "metadata": {},
     "output_type": "execute_result"
    }
   ],
   "source": [
    "df"
   ]
  },
  {
   "cell_type": "code",
   "execution_count": 32,
   "metadata": {
    "collapsed": true
   },
   "outputs": [],
   "source": [
    "records = df.to_dict('records')"
   ]
  },
  {
   "cell_type": "code",
   "execution_count": 33,
   "metadata": {},
   "outputs": [
    {
     "data": {
      "text/plain": [
       "[{'_id': ObjectId('59a552afb6435fc01cac169a'),\n",
       "  'catagory': 'Physics',\n",
       "  'name': 'Albert Einstein',\n",
       "  'nationality': 'Swiss',\n",
       "  'sex': 'male',\n",
       "  'year': 1921},\n",
       " {'_id': ObjectId('59a552afb6435fc01cac169b'),\n",
       "  'catagory': 'Physics',\n",
       "  'name': 'Paul Dirac',\n",
       "  'nationality': 'British',\n",
       "  'sex': 'male',\n",
       "  'year': 1933},\n",
       " {'_id': ObjectId('59a552afb6435fc01cac169c'),\n",
       "  'catagory': 'Chemistry',\n",
       "  'name': 'Marie Curie',\n",
       "  'nationality': 'Polish',\n",
       "  'sex': 'female',\n",
       "  'year': 1911}]"
      ]
     },
     "execution_count": 33,
     "metadata": {},
     "output_type": "execute_result"
    }
   ],
   "source": [
    "records"
   ]
  },
  {
   "cell_type": "code",
   "execution_count": 34,
   "metadata": {
    "collapsed": true
   },
   "outputs": [],
   "source": [
    "from pymongo import MongoClient\n",
    "DB_NOBEL_PRIZE = 'nobel_prize'\n",
    "COLL_WINNERS = 'winners'"
   ]
  },
  {
   "cell_type": "code",
   "execution_count": 35,
   "metadata": {
    "collapsed": true
   },
   "outputs": [],
   "source": [
    "def get_mongo_database(db_name, host='localhost', port=27017, username=None, password=None):\n",
    "    if username and password:\n",
    "        mongo_uri = 'mongodb://{}:{}@{}/()'.format(username, password, host, db_name)\n",
    "        conn = MongoClient(mongo_uri)\n",
    "    else:\n",
    "        conn = MongoClient(host, port)\n",
    "    \n",
    "    return conn[db_name]"
   ]
  },
  {
   "cell_type": "code",
   "execution_count": 36,
   "metadata": {},
   "outputs": [],
   "source": [
    "def mongo_to_dataframe(db_name, collection, query=None, host='localhost', port=27017,\n",
    "                       username=None, password=None, no_id=True):\n",
    "    db = get_mongo_database(db_name, host, port, username, password)\n",
    "    \n",
    "    if query == None:\n",
    "        query = {}\n",
    "    cursor = db[collection].find(query)\n",
    "    df = pd.DataFrame(list(cursor))\n",
    "    \n",
    "    if no_id:\n",
    "        del df['_id']\n",
    "        \n",
    "    return df"
   ]
  },
  {
   "cell_type": "code",
   "execution_count": 37,
   "metadata": {
    "collapsed": true
   },
   "outputs": [],
   "source": [
    "def dataframe_to_mongo(df, db_name, collection, host='localhost', port=27017,\n",
    "                       username=None, password=None):\n",
    "    db = get_mongo_database(db_name, host, port, username, password)\n",
    "    \n",
    "    records = df.to_dict('records')\n",
    "    db[collection].insert_many(records)"
   ]
  },
  {
   "cell_type": "code",
   "execution_count": 38,
   "metadata": {},
   "outputs": [
    {
     "data": {
      "text/html": [
       "<div>\n",
       "<table border=\"1\" class=\"dataframe\">\n",
       "  <thead>\n",
       "    <tr style=\"text-align: right;\">\n",
       "      <th></th>\n",
       "      <th>catagory</th>\n",
       "      <th>name</th>\n",
       "      <th>nationality</th>\n",
       "      <th>sex</th>\n",
       "      <th>year</th>\n",
       "    </tr>\n",
       "  </thead>\n",
       "  <tbody>\n",
       "    <tr>\n",
       "      <th>0</th>\n",
       "      <td>Physics</td>\n",
       "      <td>Albert Einstein</td>\n",
       "      <td>Swiss</td>\n",
       "      <td>male</td>\n",
       "      <td>1921</td>\n",
       "    </tr>\n",
       "    <tr>\n",
       "      <th>1</th>\n",
       "      <td>Physics</td>\n",
       "      <td>Paul Dirac</td>\n",
       "      <td>British</td>\n",
       "      <td>male</td>\n",
       "      <td>1933</td>\n",
       "    </tr>\n",
       "    <tr>\n",
       "      <th>2</th>\n",
       "      <td>Chemistry</td>\n",
       "      <td>Marie Curie</td>\n",
       "      <td>Polish</td>\n",
       "      <td>female</td>\n",
       "      <td>1911</td>\n",
       "    </tr>\n",
       "  </tbody>\n",
       "</table>\n",
       "</div>"
      ],
      "text/plain": [
       "    catagory             name nationality     sex  year\n",
       "0    Physics  Albert Einstein       Swiss    male  1921\n",
       "1    Physics       Paul Dirac     British    male  1933\n",
       "2  Chemistry      Marie Curie      Polish  female  1911"
      ]
     },
     "execution_count": 38,
     "metadata": {},
     "output_type": "execute_result"
    }
   ],
   "source": [
    "df = mongo_to_dataframe(DB_NOBEL_PRIZE, COLL_WINNERS)\n",
    "df"
   ]
  },
  {
   "cell_type": "code",
   "execution_count": 40,
   "metadata": {},
   "outputs": [],
   "source": [
    "dataframe_to_mongo(df, DB_NOBEL_PRIZE, COLL_WINNERS + \"a\")"
   ]
  },
  {
   "cell_type": "code",
   "execution_count": 41,
   "metadata": {},
   "outputs": [
    {
     "data": {
      "text/html": [
       "<div>\n",
       "<table border=\"1\" class=\"dataframe\">\n",
       "  <thead>\n",
       "    <tr style=\"text-align: right;\">\n",
       "      <th></th>\n",
       "      <th>_id</th>\n",
       "      <th>catagory</th>\n",
       "      <th>name</th>\n",
       "      <th>nationality</th>\n",
       "      <th>sex</th>\n",
       "      <th>year</th>\n",
       "    </tr>\n",
       "  </thead>\n",
       "  <tbody>\n",
       "    <tr>\n",
       "      <th>0</th>\n",
       "      <td>59a552afb6435fc01cac169a</td>\n",
       "      <td>Physics</td>\n",
       "      <td>Albert Einstein</td>\n",
       "      <td>Swiss</td>\n",
       "      <td>male</td>\n",
       "      <td>1921</td>\n",
       "    </tr>\n",
       "    <tr>\n",
       "      <th>1</th>\n",
       "      <td>59a552afb6435fc01cac169b</td>\n",
       "      <td>Physics</td>\n",
       "      <td>Paul Dirac</td>\n",
       "      <td>British</td>\n",
       "      <td>male</td>\n",
       "      <td>1933</td>\n",
       "    </tr>\n",
       "    <tr>\n",
       "      <th>2</th>\n",
       "      <td>59a552afb6435fc01cac169c</td>\n",
       "      <td>Chemistry</td>\n",
       "      <td>Marie Curie</td>\n",
       "      <td>Polish</td>\n",
       "      <td>female</td>\n",
       "      <td>1911</td>\n",
       "    </tr>\n",
       "  </tbody>\n",
       "</table>\n",
       "</div>"
      ],
      "text/plain": [
       "                        _id   catagory             name nationality     sex  \\\n",
       "0  59a552afb6435fc01cac169a    Physics  Albert Einstein       Swiss    male   \n",
       "1  59a552afb6435fc01cac169b    Physics       Paul Dirac     British    male   \n",
       "2  59a552afb6435fc01cac169c  Chemistry      Marie Curie      Polish  female   \n",
       "\n",
       "   year  \n",
       "0  1921  \n",
       "1  1933  \n",
       "2  1911  "
      ]
     },
     "execution_count": 41,
     "metadata": {},
     "output_type": "execute_result"
    }
   ],
   "source": [
    "df = mongo_to_dataframe(DB_NOBEL_PRIZE, COLL_WINNERS, no_id=False)\n",
    "df"
   ]
  },
  {
   "cell_type": "code",
   "execution_count": 42,
   "metadata": {
    "collapsed": true
   },
   "outputs": [],
   "source": [
    "dataframe_to_mongo(df, DB_NOBEL_PRIZE, COLL_WINNERS + \"b\")"
   ]
  },
  {
   "cell_type": "code",
   "execution_count": 43,
   "metadata": {
    "collapsed": true
   },
   "outputs": [],
   "source": [
    "df = pd.read_json('/Users/simonsu/git/dataviz/scrapy/nobel_winners/nobel_full.json')"
   ]
  },
  {
   "cell_type": "code",
   "execution_count": 44,
   "metadata": {},
   "outputs": [
    {
     "name": "stdout",
     "output_type": "stream",
     "text": [
      "<class 'pandas.core.frame.DataFrame'>\n",
      "Int64Index: 1065 entries, 0 to 1064\n",
      "Data columns (total 12 columns):\n",
      "born_in           1065 non-null object\n",
      "catagory          1065 non-null object\n",
      "country           1065 non-null object\n",
      "date_of_birth     1056 non-null object\n",
      "date_of_death     709 non-null object\n",
      "gender            1056 non-null object\n",
      "link              1065 non-null object\n",
      "name              1065 non-null object\n",
      "place_of_birth    1056 non-null object\n",
      "place_of_death    709 non-null object\n",
      "text              1065 non-null object\n",
      "year              1065 non-null int64\n",
      "dtypes: int64(1), object(11)\n",
      "memory usage: 108.2+ KB\n"
     ]
    }
   ],
   "source": [
    "df.info()"
   ]
  },
  {
   "cell_type": "code",
   "execution_count": 45,
   "metadata": {
    "collapsed": true
   },
   "outputs": [],
   "source": [
    "dataframe_to_mongo(df, DB_NOBEL_PRIZE, COLL_WINNERS)"
   ]
  },
  {
   "cell_type": "code",
   "execution_count": 46,
   "metadata": {},
   "outputs": [
    {
     "data": {
      "text/html": [
       "<div>\n",
       "<table border=\"1\" class=\"dataframe\">\n",
       "  <thead>\n",
       "    <tr style=\"text-align: right;\">\n",
       "      <th></th>\n",
       "      <th>year</th>\n",
       "    </tr>\n",
       "  </thead>\n",
       "  <tbody>\n",
       "    <tr>\n",
       "      <th>count</th>\n",
       "      <td>1065.000000</td>\n",
       "    </tr>\n",
       "    <tr>\n",
       "      <th>mean</th>\n",
       "      <td>1968.008451</td>\n",
       "    </tr>\n",
       "    <tr>\n",
       "      <th>std</th>\n",
       "      <td>69.116735</td>\n",
       "    </tr>\n",
       "    <tr>\n",
       "      <th>min</th>\n",
       "      <td>0.000000</td>\n",
       "    </tr>\n",
       "    <tr>\n",
       "      <th>25%</th>\n",
       "      <td>1948.000000</td>\n",
       "    </tr>\n",
       "    <tr>\n",
       "      <th>50%</th>\n",
       "      <td>1976.000000</td>\n",
       "    </tr>\n",
       "    <tr>\n",
       "      <th>75%</th>\n",
       "      <td>1998.000000</td>\n",
       "    </tr>\n",
       "    <tr>\n",
       "      <th>max</th>\n",
       "      <td>2016.000000</td>\n",
       "    </tr>\n",
       "  </tbody>\n",
       "</table>\n",
       "</div>"
      ],
      "text/plain": [
       "              year\n",
       "count  1065.000000\n",
       "mean   1968.008451\n",
       "std      69.116735\n",
       "min       0.000000\n",
       "25%    1948.000000\n",
       "50%    1976.000000\n",
       "75%    1998.000000\n",
       "max    2016.000000"
      ]
     },
     "execution_count": 46,
     "metadata": {},
     "output_type": "execute_result"
    }
   ],
   "source": [
    "df.describe()"
   ]
  },
  {
   "cell_type": "code",
   "execution_count": null,
   "metadata": {
    "collapsed": true
   },
   "outputs": [],
   "source": []
  }
 ],
 "metadata": {
  "kernelspec": {
   "display_name": "Python 3",
   "language": "python",
   "name": "python3"
  },
  "language_info": {
   "codemirror_mode": {
    "name": "ipython",
    "version": 3
   },
   "file_extension": ".py",
   "mimetype": "text/x-python",
   "name": "python",
   "nbconvert_exporter": "python",
   "pygments_lexer": "ipython3",
   "version": "3.6.1"
  }
 },
 "nbformat": 4,
 "nbformat_minor": 2
}
